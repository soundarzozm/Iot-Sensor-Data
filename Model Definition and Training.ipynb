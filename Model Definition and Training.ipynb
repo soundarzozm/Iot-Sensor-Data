{
    "cells": [
        {
            "cell_type": "markdown",
            "metadata": {},
            "source": "<h2>MODEL DEFINITION, TRAINING AND DEPLOYMENT NOTEBOOK</h2>"
        },
        {
            "cell_type": "code",
            "execution_count": 1,
            "metadata": {},
            "outputs": [
                {
                    "name": "stdout",
                    "output_type": "stream",
                    "text": "Requirement already satisfied: pyspark==2.4.5 in /opt/conda/envs/Python36/lib/python3.6/site-packages (2.4.5)\nRequirement already satisfied: py4j==0.10.7 in /opt/conda/envs/Python36/lib/python3.6/site-packages (from pyspark==2.4.5) (0.10.7)\n"
                }
            ],
            "source": "#Install PySpark\n!pip install pyspark==2.4.5"
        },
        {
            "cell_type": "markdown",
            "metadata": {},
            "source": "Now let's import PySpark modules."
        },
        {
            "cell_type": "code",
            "execution_count": 2,
            "metadata": {},
            "outputs": [],
            "source": "#Import PySpark libraries\nfrom pyspark import SparkContext, SparkConf\nfrom pyspark.sql import SparkSession"
        },
        {
            "cell_type": "markdown",
            "metadata": {},
            "source": "Let's create Spark instance."
        },
        {
            "cell_type": "code",
            "execution_count": 3,
            "metadata": {},
            "outputs": [],
            "source": "#Create Spark instance\nsc = SparkContext.getOrCreate(SparkConf().setMaster(\"local[*]\"))\n\nspark = SparkSession \\\n    .builder \\\n    .getOrCreate()"
        },
        {
            "cell_type": "markdown",
            "metadata": {},
            "source": "Now we read the final parquet file into Spark and create a dataframe instance."
        },
        {
            "cell_type": "code",
            "execution_count": 4,
            "metadata": {},
            "outputs": [
                {
                    "name": "stdout",
                    "output_type": "stream",
                    "text": "+-------+------------------+--------------------+------------------+--------------------+--------------------+\n|summary|          humidity|               smoke|              temp|         light_final|        motion_final|\n+-------+------------------+--------------------+------------------+--------------------+--------------------+\n|  count|            187451|              187451|            187451|              187451|              187451|\n|   mean| 50.81407674538176|0.022288350217858362|22.279969165276523|0.016009517153816197| 7.68200756464356E-4|\n| stddev|1.8889262809920346|0.001720104166737...|0.4819022291417346| 0.12551213707790115|0.027705860735184988|\n|    min|              45.1|0.019416273090454256|              21.0|                   0|                   0|\n|    max|              63.3| 0.02942197406197568|              24.1|                   1|                   1|\n+-------+------------------+--------------------+------------------+--------------------+--------------------+\n\n"
                }
            ],
            "source": "#Read parquet file as a Spark dataframe\ndf = spark.read.parquet('df_final.parquet')\ndf.createOrReplaceTempView('sensor_data')\n\n#Display statistical description of the dataframe\ndf.describe().show()"
        },
        {
            "cell_type": "markdown",
            "metadata": {},
            "source": "Let's check if the dataframe is the right one by printing it."
        },
        {
            "cell_type": "code",
            "execution_count": 5,
            "metadata": {},
            "outputs": [
                {
                    "name": "stdout",
                    "output_type": "stream",
                    "text": "+--------+--------------------+----+-----------+------------+\n|humidity|               smoke|temp|light_final|motion_final|\n+--------+--------------------+----+-----------+------------+\n|    51.0| 0.02041127012241292|22.7|          0|           0|\n|    50.9| 0.02047512557617824|22.6|          0|           0|\n|    50.9|0.020447620810233658|22.6|          0|           0|\n|    50.9|0.020475166204362245|22.6|          0|           0|\n|    50.9| 0.02045681960706413|22.6|          0|           0|\n|    50.9| 0.02042485815208522|22.6|          0|           0|\n|    50.9|0.020461237669931027|22.6|          0|           0|\n|    50.9|0.020438716650667384|22.6|          0|           0|\n|    50.9|0.020475033620232192|22.6|          0|           0|\n|    50.9| 0.02042485815208522|22.6|          0|           0|\n|    50.9| 0.02041184473336307|22.6|          0|           0|\n|    50.8|  0.0203978759436991|22.6|          0|           0|\n|    50.9| 0.02042943583639171|22.6|          0|           0|\n|    50.9|0.020316591192420567|22.6|          0|           0|\n|    50.9| 0.02036609998281239|22.6|          0|           0|\n|    50.9| 0.02042485815208522|22.6|          0|           0|\n|    50.9|0.020276445922912403|22.6|          0|           0|\n|    50.9|0.020470443763956046|22.7|          0|           0|\n|    50.9| 0.02045691146558556|22.7|          0|           0|\n|    50.9|0.020475033620232192|22.6|          0|           0|\n+--------+--------------------+----+-----------+------------+\nonly showing top 20 rows\n\n"
                }
            ],
            "source": "#Display first 20 records of the dataframe\ndf.show()"
        },
        {
            "cell_type": "markdown",
            "metadata": {},
            "source": "From the graphs in the **Data Exploration Notebook** we observed that the records where motion is detected is very sparse.<br>\nThis is an issue commonly referred to as *data imbalance*.<br>\n<br>\nHence, the ML model will simply learn to provide 0 as output since that will still provide 95%+ accuracy.<br>\nWe do not want that, hence we *balance* the data by **sampling the data** such that the data is balanced.<br>\n<br>\nWe start off by getting details about the records having 1 as motion_final."
        },
        {
            "cell_type": "code",
            "execution_count": 6,
            "metadata": {},
            "outputs": [
                {
                    "name": "stdout",
                    "output_type": "stream",
                    "text": "+-------+------------------+--------------------+------------------+-------------------+------------+\n|summary|          humidity|               smoke|              temp|        light_final|motion_final|\n+-------+------------------+--------------------+------------------+-------------------+------------+\n|  count|               144|                 144|               144|                144|         144|\n|   mean| 50.32569444444445|0.022065659524688867|22.278472222222213|0.04861111111111111|         1.0|\n| stddev|1.7420647875910713| 0.00184460745334887| 0.391547618667941|0.21580427259784288|         0.0|\n|    min|              46.1| 0.01988092642782673|              21.6|                  0|           1|\n|    max|              54.6|0.027508421103950638|              23.4|                  1|           1|\n+-------+------------------+--------------------+------------------+-------------------+------------+\n\n"
                }
            ],
            "source": "#Filter the dataframe into a new dataframe df_1 which contains only the records where motion_final is 1\ndf_1 = df.where((df.motion_final == 1))\n\n#Display statistical description of the new dataframe df_1\ndf_1.describe().show()"
        },
        {
            "cell_type": "markdown",
            "metadata": {},
            "source": "Now we observe that 144 records have 1 as motion_final.<br>\nHence, we need to sample the values that have 0 as motion_final such that the sampled values have approx 144 values as well.<br>\n<br>\nWe accomplish this by using a sampling rate of 0.0008 on the data where motion_final is 0."
        },
        {
            "cell_type": "code",
            "execution_count": 7,
            "metadata": {},
            "outputs": [
                {
                    "name": "stdout",
                    "output_type": "stream",
                    "text": "+-------+-----------------+--------------------+------------------+-------------------+------------+\n|summary|         humidity|               smoke|              temp|        light_final|motion_final|\n+-------+-----------------+--------------------+------------------+-------------------+------------+\n|  count|              160|                 160|               160|                160|         160|\n|   mean|        50.845625|0.022506956236353994|22.285000000000004|            0.00625|         0.0|\n| stddev|1.897825530780694|0.001751438845133...| 0.450045420489027|0.07905694150420947|         0.0|\n|    min|             46.2|0.020041577054495552|              21.2|                  0|           0|\n|    max|             54.6| 0.02749299762823611|              23.9|                  1|           0|\n+-------+-----------------+--------------------+------------------+-------------------+------------+\n\n"
                }
            ],
            "source": "#Filter the main dataframe again into a new dataframe df_2 which contains only the records where motion_final is 0 and randomly sample only 0.08% of it to roughly obtain 150 records\ndf_2 = df.where((df.motion_final == 0)).sample(False, 0.0008)\ndf_2.describe().show()"
        },
        {
            "cell_type": "markdown",
            "metadata": {},
            "source": "Now that we have both the processed dataframes, we can go ahead and **merge** them."
        },
        {
            "cell_type": "code",
            "execution_count": 8,
            "metadata": {},
            "outputs": [],
            "source": "#Merge df_1 and df_2 to create a new dataframe df_final\ndf_final = df_1.unionAll(df_2)"
        },
        {
            "cell_type": "markdown",
            "metadata": {},
            "source": "Let's check the statistics of the merged dataframe."
        },
        {
            "cell_type": "code",
            "execution_count": 9,
            "metadata": {},
            "outputs": [
                {
                    "name": "stdout",
                    "output_type": "stream",
                    "text": "+-------+-----------------+--------------------+-------------------+-------------------+-------------------+\n|summary|         humidity|               smoke|               temp|        light_final|       motion_final|\n+-------+-----------------+--------------------+-------------------+-------------------+-------------------+\n|  count|              304|                 304|                304|                304|                304|\n|   mean|50.59934210526316|0.022297920951881038|  22.28190789473684|0.02631578947368421|0.47368421052631576|\n| stddev|1.841168258428614|0.001806722377284...|0.42266830155428814| 0.1603366269487071| 0.5001302592180493|\n|    min|             46.1| 0.01988092642782673|               21.2|                  0|                  0|\n|    max|             54.6|0.027508421103950638|               23.9|                  1|                  1|\n+-------+-----------------+--------------------+-------------------+-------------------+-------------------+\n\n"
                }
            ],
            "source": "#Display the statistical description of the merged dataframe\ndf_final.describe().show()"
        },
        {
            "cell_type": "code",
            "execution_count": 10,
            "metadata": {},
            "outputs": [
                {
                    "name": "stdout",
                    "output_type": "stream",
                    "text": "+--------+--------------------+----+-----------+------------+\n|humidity|               smoke|temp|light_final|motion_final|\n+--------+--------------------+----+-----------+------------+\n|    51.8|0.019998137876408518|22.2|          0|           1|\n|    51.8|0.020032820812921674|22.3|          0|           1|\n|    51.9|0.020020009199106837|22.3|          0|           1|\n|    52.0| 0.01999377048749705|22.3|          0|           1|\n|    52.0|  0.0200546885263529|22.3|          0|           1|\n|    51.9| 0.02005924556696428|22.2|          0|           1|\n|    51.9|0.020024037643655297|22.2|          0|           1|\n|    51.1|0.020063629996772667|22.2|          0|           1|\n|    50.6| 0.02004151412273946|22.2|          0|           1|\n|    49.5|0.020024037643655297|21.8|          0|           1|\n|    50.0|0.020059071769776702|21.8|          0|           1|\n|    50.1| 0.02010314137587005|21.8|          0|           1|\n|    50.1|0.020045893936615555|21.8|          0|           1|\n|    51.0| 0.02004151412273946|21.8|          0|           1|\n|    52.6|0.020024037643655297|21.8|          0|           1|\n|    52.6| 0.02003726127961487|21.9|          0|           1|\n|    52.6|0.020041577054495552|21.9|          0|           1|\n|    51.5|0.020032820812921674|21.9|          0|           1|\n|    51.5| 0.01988092642782673|21.9|          0|           1|\n|    51.7| 0.02004151412273946|21.9|          0|           1|\n+--------+--------------------+----+-----------+------------+\nonly showing top 20 rows\n\n"
                }
            ],
            "source": "#Display first 20 records of the merged dataframe\ndf_final.show()"
        },
        {
            "cell_type": "markdown",
            "metadata": {},
            "source": "Since the dataframes were merged vertically, the data is split internally and hence may result in bad performance while trained.<br>\n<br>\nHence we **shuffle** the dataframe to maintain data diversity."
        },
        {
            "cell_type": "code",
            "execution_count": 11,
            "metadata": {},
            "outputs": [
                {
                    "name": "stdout",
                    "output_type": "stream",
                    "text": "+--------+--------------------+----+-----------+------------+\n|humidity|               smoke|temp|light_final|motion_final|\n+--------+--------------------+----+-----------+------------+\n|    51.2|0.024295005792873352|22.4|          0|           0|\n|    46.5| 0.02106923987802722|23.9|          0|           0|\n|    46.3|0.021209358505977532|23.7|          0|           0|\n|    52.6|0.020543606849059416|22.8|          0|           1|\n|    52.3|0.024756113729318914|21.6|          0|           1|\n|    52.8| 0.02388495395368051|21.9|          0|           0|\n|    51.8|0.019998137876408518|22.2|          0|           1|\n|    52.1|0.020534427566983336|22.5|          0|           0|\n|    47.0|0.021828032423057725|23.2|          0|           0|\n|    52.2| 0.02352238795170069|21.9|          0|           0|\n|    52.2| 0.02481460282330909|21.7|          0|           1|\n|    51.5|0.020316591192420567|22.7|          0|           0|\n|    50.4|0.024177195138253855|21.8|          0|           1|\n|    47.9| 0.02150447792794127|21.9|          0|           1|\n|    50.1|0.020045893936615555|21.8|          0|           1|\n|    52.4|0.023848741909302598|21.8|          0|           0|\n|    48.3|0.021011771023211667|21.9|          0|           1|\n|    49.7|0.020289762204606602|23.1|          0|           0|\n|    48.9| 0.02152947900919568|23.4|          0|           0|\n|    46.5|0.022314007967695275|23.1|          0|           0|\n+--------+--------------------+----+-----------+------------+\nonly showing top 20 rows\n\n"
                }
            ],
            "source": "#Import module which enables random shuffling of Spark dataframe\nfrom pyspark.sql.functions import rand\n\n#Randomly shuffle the records of the dataframe and name it df\ndf = df_final.orderBy(rand())\ndf.show()"
        },
        {
            "cell_type": "markdown",
            "metadata": {},
            "source": "<h3>Perfect!</h3>\nNow that the dataframe is ready, we can proceed to feed it into the ML models.<br>\n<br>\nBut, first off we have to define the ML models:<br>\n1. Classifiers<br>\n   - Gradient Boosted Trees<br>\n   - Logistic Regression<br>   \n2. Deep learning Model\n\nLet's go ahead and define the **pipelines** for the classification models *with* and *without StandardScaler* to compare the performance."
        },
        {
            "cell_type": "code",
            "execution_count": 12,
            "metadata": {},
            "outputs": [],
            "source": "#Import VectorAssembler module\nfrom pyspark.ml.feature import VectorAssembler\n\n#Define an instance of VectorAssembler\nvectorAssembler = VectorAssembler(inputCols = [\"humidity\",\"smoke\",\"temp\",\"light_final\"], outputCol = \"features\")"
        },
        {
            "cell_type": "code",
            "execution_count": 13,
            "metadata": {
                "scrolled": false
            },
            "outputs": [],
            "source": "#Import StandardScaler module\nfrom pyspark.ml.feature import StandardScaler\n\n#Define an instance of StandardScaler\nscaler = StandardScaler(inputCol=\"features\", outputCol=\"features_final\", withStd=True, withMean=False)"
        },
        {
            "cell_type": "code",
            "execution_count": 14,
            "metadata": {},
            "outputs": [],
            "source": "#Import ML classification modules\nfrom pyspark.ml.classification import GBTClassifier, LogisticRegression\n\n#Create instances of the two classification modules which are used with StandardScaler\ngbt_classifier_wscaler = GBTClassifier(labelCol = \"motion_final\", featuresCol = \"features_final\", maxIter = 10)\nlr_classifier_wscaler = LogisticRegression(labelCol = \"motion_final\", featuresCol = \"features_final\", maxIter=10, regParam=0.3, elasticNetParam=0.8)\n\n#Create instances of the two classification modules which do not use StandardScaler\ngbt_classifier_woscaler = GBTClassifier(labelCol = \"motion_final\", featuresCol = \"features\", maxIter = 10)\nlr_classifier_woscaler = LogisticRegression(labelCol = \"motion_final\", featuresCol = \"features\", maxIter=10, regParam=0.3, elasticNetParam=0.8)\n"
        },
        {
            "cell_type": "code",
            "execution_count": 15,
            "metadata": {},
            "outputs": [],
            "source": "#Import Pipeline module\nfrom pyspark.ml import Pipeline\n\n#Define pipelines for the two classification modules with StandardScaler\npipeline_gbt_wscaler = Pipeline(stages=[vectorAssembler,scaler, gbt_classifier_wscaler])\npipeline_lr_wscaler = Pipeline(stages=[vectorAssembler,scaler, lr_classifier_wscaler])\n\n#Define pipelines for the two classification modules without StandardScaler\npipeline_gbt_woscaler = Pipeline(stages=[vectorAssembler, gbt_classifier_woscaler])\npipeline_lr_woscaler = Pipeline(stages=[vectorAssembler, lr_classifier_woscaler])"
        },
        {
            "cell_type": "markdown",
            "metadata": {},
            "source": "Now that the pipelines are defined, we can go ahead and fit the dataframe into the pipelines and train the models."
        },
        {
            "cell_type": "code",
            "execution_count": 16,
            "metadata": {},
            "outputs": [],
            "source": "#Fit the dataframe to the defined pipelines \n\nmodel_gbt_wscaler = pipeline_gbt_wscaler.fit(df)\nmodel_gbt_woscaler = pipeline_gbt_woscaler.fit(df)\n\nmodel_lr_wscaler = pipeline_lr_wscaler.fit(df)\nmodel_lr_woscaler = pipeline_lr_woscaler.fit(df)"
        },
        {
            "cell_type": "code",
            "execution_count": 17,
            "metadata": {},
            "outputs": [],
            "source": "#Transform the dataframes by predicting motion_light using the fitted classification modules\n\nprediction_gbt_wscaler = model_gbt_wscaler.transform(df)\nprediction_gbt_woscaler = model_gbt_woscaler.transform(df)\n\nprediction_lr_wscaler = model_lr_wscaler.transform(df)\nprediction_lr_woscaler = model_lr_woscaler.transform(df)"
        },
        {
            "cell_type": "code",
            "execution_count": 18,
            "metadata": {},
            "outputs": [
                {
                    "name": "stdout",
                    "output_type": "stream",
                    "text": "+--------+--------------------+----+-----------+------------+--------------------+--------------------+--------------------+--------------------+----------+\n|humidity|               smoke|temp|light_final|motion_final|            features|      features_final|       rawPrediction|         probability|prediction|\n+--------+--------------------+----+-----------+------------+--------------------+--------------------+--------------------+--------------------+----------+\n|    51.2|0.024295005792873352|22.4|          0|           0|[51.2,0.024295005...|[27.8084307426078...|[0.68927406000974...|[0.79875772073736...|       0.0|\n|    46.5| 0.02106923987802722|23.9|          0|           0|[46.5,0.021069239...|[25.2557037017825...|[1.09974497999146...|[0.90020369976792...|       0.0|\n|    46.3|0.021209358505977532|23.7|          0|           0|[46.3,0.021209358...|[25.1470770191941...|[1.09974497999146...|[0.90020369976792...|       0.0|\n|    52.6|0.020543606849059416|22.8|          0|           1|[52.6,0.020543606...|[28.5688175207260...|[-0.1763362257346...|[0.41273450892821...|       1.0|\n|    52.3|0.024756113729318914|21.6|          0|           1|[52.3,0.024756113...|[28.4058774968435...|[-0.8103994522180...|[0.16509472097280...|       1.0|\n|    52.8| 0.02388495395368051|21.9|          0|           0|[52.8,0.023884953...|[28.6774442033143...|[0.69602586352959...|[0.80091958768928...|       0.0|\n|    51.8|0.019998137876408518|22.2|          0|           1|[51.8,0.019998137...|[28.1343107903727...|[-1.2477830294927...|[0.07616960091940...|       1.0|\n|    52.1|0.020534427566983336|22.5|          0|           0|[52.1,0.020534427...|[28.2972508142552...|[-0.1025071110992...|[0.44892521224097...|       1.0|\n|    47.0|0.021828032423057725|23.2|          0|           0|[47.0,0.021828032...|[25.5272704082532...|[0.63284140773622...|[0.78000282145843...|       0.0|\n|    52.2| 0.02352238795170069|21.9|          0|           0|[52.2,0.023522387...|[28.3515641555493...|[0.49845615575814...|[0.73045106929104...|       0.0|\n|    52.2| 0.02481460282330909|21.7|          0|           1|[52.2,0.024814602...|[28.3515641555493...|[-0.7483313995278...|[0.18292378308471...|       1.0|\n|    51.5|0.020316591192420567|22.7|          0|           0|[51.5,0.020316591...|[27.9713707664902...|[0.14237091518343...|[0.57070836140476...|       0.0|\n|    50.4|0.024177195138253855|21.8|          0|           1|[50.4,0.024177195...|[27.3739240122545...|[-0.0039781592538...|[0.49801093086591...|       1.0|\n|    47.9| 0.02150447792794127|21.9|          0|           1|[47.9,0.021504477...|[26.0160904799006...|[-0.7210028919613...|[0.19123493358765...|       1.0|\n|    50.1|0.020045893936615555|21.8|          0|           1|[50.1,0.020045893...|[27.2109839883721...|[-1.0525986613624...|[0.10859269429181...|       1.0|\n|    52.4|0.023848741909302598|21.8|          0|           0|[52.4,0.023848741...|[28.4601908381377...|[0.69602586352959...|[0.80091958768928...|       0.0|\n|    48.3|0.021011771023211667|21.9|          0|           1|[48.3,0.021011771...|[26.2333438450773...|[-0.6090244149807...|[0.22828000252005...|       1.0|\n|    49.7|0.020289762204606602|23.1|          0|           0|[49.7,0.020289762...|[26.9937306231954...|[0.64696004256892...|[0.78480996515506...|       0.0|\n|    48.9| 0.02152947900919568|23.4|          0|           0|[48.9,0.021529479...|[26.5592238928422...|[0.52512567146082...|[0.74082316100103...|       0.0|\n|    46.5|0.022314007967695275|23.1|          0|           0|[46.5,0.022314007...|[25.2557037017825...|[1.18931042482441...|[0.91518244101707...|       0.0|\n+--------+--------------------+----+-----------+------------+--------------------+--------------------+--------------------+--------------------+----------+\nonly showing top 20 rows\n\n"
                }
            ],
            "source": "#Display the dataframe which predicted the output using GBT with StandardScaler\nprediction_gbt_wscaler.show()"
        },
        {
            "cell_type": "code",
            "execution_count": 19,
            "metadata": {},
            "outputs": [
                {
                    "name": "stdout",
                    "output_type": "stream",
                    "text": "+--------+--------------------+----+-----------+------------+--------------------+--------------------+--------------------+----------+\n|humidity|               smoke|temp|light_final|motion_final|            features|       rawPrediction|         probability|prediction|\n+--------+--------------------+----+-----------+------------+--------------------+--------------------+--------------------+----------+\n|    51.2|0.024295005792873352|22.4|          0|           0|[51.2,0.024295005...|[0.68927406000974...|[0.79875772073736...|       0.0|\n|    46.5| 0.02106923987802722|23.9|          0|           0|[46.5,0.021069239...|[1.09974497999146...|[0.90020369976792...|       0.0|\n|    46.3|0.021209358505977532|23.7|          0|           0|[46.3,0.021209358...|[1.09974497999146...|[0.90020369976792...|       0.0|\n|    52.6|0.020543606849059416|22.8|          0|           1|[52.6,0.020543606...|[-0.1763362257346...|[0.41273450892821...|       1.0|\n|    52.3|0.024756113729318914|21.6|          0|           1|[52.3,0.024756113...|[-0.8103994522180...|[0.16509472097280...|       1.0|\n|    52.8| 0.02388495395368051|21.9|          0|           0|[52.8,0.023884953...|[0.69602586352959...|[0.80091958768928...|       0.0|\n|    51.8|0.019998137876408518|22.2|          0|           1|[51.8,0.019998137...|[-1.2477830294927...|[0.07616960091940...|       1.0|\n|    52.1|0.020534427566983336|22.5|          0|           0|[52.1,0.020534427...|[-0.1025071110992...|[0.44892521224097...|       1.0|\n|    47.0|0.021828032423057725|23.2|          0|           0|[47.0,0.021828032...|[0.63284140773622...|[0.78000282145843...|       0.0|\n|    52.2| 0.02352238795170069|21.9|          0|           0|[52.2,0.023522387...|[0.49845615575814...|[0.73045106929104...|       0.0|\n|    52.2| 0.02481460282330909|21.7|          0|           1|[52.2,0.024814602...|[-0.7483313995278...|[0.18292378308471...|       1.0|\n|    51.5|0.020316591192420567|22.7|          0|           0|[51.5,0.020316591...|[0.14237091518343...|[0.57070836140476...|       0.0|\n|    50.4|0.024177195138253855|21.8|          0|           1|[50.4,0.024177195...|[-0.0039781592538...|[0.49801093086591...|       1.0|\n|    47.9| 0.02150447792794127|21.9|          0|           1|[47.9,0.021504477...|[-0.7210028919613...|[0.19123493358765...|       1.0|\n|    50.1|0.020045893936615555|21.8|          0|           1|[50.1,0.020045893...|[-1.0525986613624...|[0.10859269429181...|       1.0|\n|    52.4|0.023848741909302598|21.8|          0|           0|[52.4,0.023848741...|[0.69602586352959...|[0.80091958768928...|       0.0|\n|    48.3|0.021011771023211667|21.9|          0|           1|[48.3,0.021011771...|[-0.6090244149807...|[0.22828000252005...|       1.0|\n|    49.7|0.020289762204606602|23.1|          0|           0|[49.7,0.020289762...|[0.64696004256892...|[0.78480996515506...|       0.0|\n|    48.9| 0.02152947900919568|23.4|          0|           0|[48.9,0.021529479...|[0.52512567146082...|[0.74082316100103...|       0.0|\n|    46.5|0.022314007967695275|23.1|          0|           0|[46.5,0.022314007...|[1.18931042482441...|[0.91518244101707...|       0.0|\n+--------+--------------------+----+-----------+------------+--------------------+--------------------+--------------------+----------+\nonly showing top 20 rows\n\n"
                }
            ],
            "source": "#Display the dataframe which predicted the output using GBT without StandardScaler\nprediction_gbt_woscaler.show()"
        },
        {
            "cell_type": "code",
            "execution_count": 20,
            "metadata": {},
            "outputs": [
                {
                    "name": "stdout",
                    "output_type": "stream",
                    "text": "+--------+--------------------+----+-----------+------------+--------------------+--------------------+--------------------+--------------------+----------+\n|humidity|               smoke|temp|light_final|motion_final|            features|      features_final|       rawPrediction|         probability|prediction|\n+--------+--------------------+----+-----------+------------+--------------------+--------------------+--------------------+--------------------+----------+\n|    51.2|0.024295005792873352|22.4|          0|           0|[51.2,0.024295005...|[27.8084307426078...|[0.10536051565782...|[0.52631578947368...|       0.0|\n|    46.5| 0.02106923987802722|23.9|          0|           0|[46.5,0.021069239...|[25.2557037017825...|[0.10536051565782...|[0.52631578947368...|       0.0|\n|    46.3|0.021209358505977532|23.7|          0|           0|[46.3,0.021209358...|[25.1470770191941...|[0.10536051565782...|[0.52631578947368...|       0.0|\n|    52.6|0.020543606849059416|22.8|          0|           1|[52.6,0.020543606...|[28.5688175207260...|[0.10536051565782...|[0.52631578947368...|       0.0|\n|    52.3|0.024756113729318914|21.6|          0|           1|[52.3,0.024756113...|[28.4058774968435...|[0.10536051565782...|[0.52631578947368...|       0.0|\n|    52.8| 0.02388495395368051|21.9|          0|           0|[52.8,0.023884953...|[28.6774442033143...|[0.10536051565782...|[0.52631578947368...|       0.0|\n|    51.8|0.019998137876408518|22.2|          0|           1|[51.8,0.019998137...|[28.1343107903727...|[0.10536051565782...|[0.52631578947368...|       0.0|\n|    52.1|0.020534427566983336|22.5|          0|           0|[52.1,0.020534427...|[28.2972508142552...|[0.10536051565782...|[0.52631578947368...|       0.0|\n|    47.0|0.021828032423057725|23.2|          0|           0|[47.0,0.021828032...|[25.5272704082532...|[0.10536051565782...|[0.52631578947368...|       0.0|\n|    52.2| 0.02352238795170069|21.9|          0|           0|[52.2,0.023522387...|[28.3515641555493...|[0.10536051565782...|[0.52631578947368...|       0.0|\n|    52.2| 0.02481460282330909|21.7|          0|           1|[52.2,0.024814602...|[28.3515641555493...|[0.10536051565782...|[0.52631578947368...|       0.0|\n|    51.5|0.020316591192420567|22.7|          0|           0|[51.5,0.020316591...|[27.9713707664902...|[0.10536051565782...|[0.52631578947368...|       0.0|\n|    50.4|0.024177195138253855|21.8|          0|           1|[50.4,0.024177195...|[27.3739240122545...|[0.10536051565782...|[0.52631578947368...|       0.0|\n|    47.9| 0.02150447792794127|21.9|          0|           1|[47.9,0.021504477...|[26.0160904799006...|[0.10536051565782...|[0.52631578947368...|       0.0|\n|    50.1|0.020045893936615555|21.8|          0|           1|[50.1,0.020045893...|[27.2109839883721...|[0.10536051565782...|[0.52631578947368...|       0.0|\n|    52.4|0.023848741909302598|21.8|          0|           0|[52.4,0.023848741...|[28.4601908381377...|[0.10536051565782...|[0.52631578947368...|       0.0|\n|    48.3|0.021011771023211667|21.9|          0|           1|[48.3,0.021011771...|[26.2333438450773...|[0.10536051565782...|[0.52631578947368...|       0.0|\n|    49.7|0.020289762204606602|23.1|          0|           0|[49.7,0.020289762...|[26.9937306231954...|[0.10536051565782...|[0.52631578947368...|       0.0|\n|    48.9| 0.02152947900919568|23.4|          0|           0|[48.9,0.021529479...|[26.5592238928422...|[0.10536051565782...|[0.52631578947368...|       0.0|\n|    46.5|0.022314007967695275|23.1|          0|           0|[46.5,0.022314007...|[25.2557037017825...|[0.10536051565782...|[0.52631578947368...|       0.0|\n+--------+--------------------+----+-----------+------------+--------------------+--------------------+--------------------+--------------------+----------+\nonly showing top 20 rows\n\n"
                }
            ],
            "source": "#Display the dataframe which predicted the output using LogisticRegression with StandardScaler\nprediction_lr_wscaler.show()"
        },
        {
            "cell_type": "code",
            "execution_count": 21,
            "metadata": {},
            "outputs": [
                {
                    "name": "stdout",
                    "output_type": "stream",
                    "text": "+--------+--------------------+----+-----------+------------+--------------------+--------------------+--------------------+----------+\n|humidity|               smoke|temp|light_final|motion_final|            features|       rawPrediction|         probability|prediction|\n+--------+--------------------+----+-----------+------------+--------------------+--------------------+--------------------+----------+\n|    51.2|0.024295005792873352|22.4|          0|           0|[51.2,0.024295005...|[0.10536051565782...|[0.52631578947368...|       0.0|\n|    46.5| 0.02106923987802722|23.9|          0|           0|[46.5,0.021069239...|[0.10536051565782...|[0.52631578947368...|       0.0|\n|    46.3|0.021209358505977532|23.7|          0|           0|[46.3,0.021209358...|[0.10536051565782...|[0.52631578947368...|       0.0|\n|    52.6|0.020543606849059416|22.8|          0|           1|[52.6,0.020543606...|[0.10536051565782...|[0.52631578947368...|       0.0|\n|    52.3|0.024756113729318914|21.6|          0|           1|[52.3,0.024756113...|[0.10536051565782...|[0.52631578947368...|       0.0|\n|    52.8| 0.02388495395368051|21.9|          0|           0|[52.8,0.023884953...|[0.10536051565782...|[0.52631578947368...|       0.0|\n|    51.8|0.019998137876408518|22.2|          0|           1|[51.8,0.019998137...|[0.10536051565782...|[0.52631578947368...|       0.0|\n|    52.1|0.020534427566983336|22.5|          0|           0|[52.1,0.020534427...|[0.10536051565782...|[0.52631578947368...|       0.0|\n|    47.0|0.021828032423057725|23.2|          0|           0|[47.0,0.021828032...|[0.10536051565782...|[0.52631578947368...|       0.0|\n|    52.2| 0.02352238795170069|21.9|          0|           0|[52.2,0.023522387...|[0.10536051565782...|[0.52631578947368...|       0.0|\n|    52.2| 0.02481460282330909|21.7|          0|           1|[52.2,0.024814602...|[0.10536051565782...|[0.52631578947368...|       0.0|\n|    51.5|0.020316591192420567|22.7|          0|           0|[51.5,0.020316591...|[0.10536051565782...|[0.52631578947368...|       0.0|\n|    50.4|0.024177195138253855|21.8|          0|           1|[50.4,0.024177195...|[0.10536051565782...|[0.52631578947368...|       0.0|\n|    47.9| 0.02150447792794127|21.9|          0|           1|[47.9,0.021504477...|[0.10536051565782...|[0.52631578947368...|       0.0|\n|    50.1|0.020045893936615555|21.8|          0|           1|[50.1,0.020045893...|[0.10536051565782...|[0.52631578947368...|       0.0|\n|    52.4|0.023848741909302598|21.8|          0|           0|[52.4,0.023848741...|[0.10536051565782...|[0.52631578947368...|       0.0|\n|    48.3|0.021011771023211667|21.9|          0|           1|[48.3,0.021011771...|[0.10536051565782...|[0.52631578947368...|       0.0|\n|    49.7|0.020289762204606602|23.1|          0|           0|[49.7,0.020289762...|[0.10536051565782...|[0.52631578947368...|       0.0|\n|    48.9| 0.02152947900919568|23.4|          0|           0|[48.9,0.021529479...|[0.10536051565782...|[0.52631578947368...|       0.0|\n|    46.5|0.022314007967695275|23.1|          0|           0|[46.5,0.022314007...|[0.10536051565782...|[0.52631578947368...|       0.0|\n+--------+--------------------+----+-----------+------------+--------------------+--------------------+--------------------+----------+\nonly showing top 20 rows\n\n"
                }
            ],
            "source": "#Display the dataframe which predicted the output using LogisticRegression without StandardScaler\nprediction_lr_woscaler.show()"
        },
        {
            "cell_type": "markdown",
            "metadata": {},
            "source": "We can observe the *prediction* column in the predicted dataframes containing the values predicted by the models.<br>\n<br>\nNow we can go ahead and **evaluate** the performance of the models."
        },
        {
            "cell_type": "code",
            "execution_count": 22,
            "metadata": {},
            "outputs": [],
            "source": "#Import module used for model evaluation\nfrom pyspark.ml.evaluation import MulticlassClassificationEvaluator\n\n#Create instance of the evaluator which evaluates the models based on accuracy\nbinEval = MulticlassClassificationEvaluator().setMetricName(\"accuracy\").setPredictionCol(\"prediction\").setLabelCol(\"motion_final\")\n\n#Use the created instance to evaluate all the models\n\ngbt_acc_wscaler = binEval.evaluate(prediction_gbt_wscaler)\ngbt_acc_woscaler = binEval.evaluate(prediction_gbt_woscaler)\n\nlr_acc_wscaler = binEval.evaluate(prediction_lr_wscaler)\nlr_acc_woscaler = binEval.evaluate(prediction_lr_woscaler)"
        },
        {
            "cell_type": "markdown",
            "metadata": {},
            "source": "Now we can move on to the *deep-learning model* using **keras** modules."
        },
        {
            "cell_type": "code",
            "execution_count": 23,
            "metadata": {},
            "outputs": [
                {
                    "name": "stderr",
                    "output_type": "stream",
                    "text": "Using TensorFlow backend.\n"
                }
            ],
            "source": "#Import necessary modules required to implement a DNN\n\nimport keras\nfrom keras.models import Sequential\nfrom keras.layers import Dense,Dropout"
        },
        {
            "cell_type": "markdown",
            "metadata": {},
            "source": "Since the modules are imported, we now define the neural-network models for data both *scaled* and *unscaled* data."
        },
        {
            "cell_type": "code",
            "execution_count": 24,
            "metadata": {},
            "outputs": [
                {
                    "name": "stdout",
                    "output_type": "stream",
                    "text": "WARNING:tensorflow:From /opt/conda/envs/Python36/lib/python3.6/site-packages/tensorflow/python/framework/op_def_library.py:263: colocate_with (from tensorflow.python.framework.ops) is deprecated and will be removed in a future version.\nInstructions for updating:\nColocations handled automatically by placer.\n"
                },
                {
                    "name": "stderr",
                    "output_type": "stream",
                    "text": "/opt/conda/envs/Python36/lib/python3.6/site-packages/ipykernel/__main__.py:5: UserWarning: Update your `Dense` call to the Keras 2 API: `Dense(activation=\"relu\", input_dim=4, units=32, kernel_initializer=\"uniform\")`\n/opt/conda/envs/Python36/lib/python3.6/site-packages/ipykernel/__main__.py:7: UserWarning: Update your `Dense` call to the Keras 2 API: `Dense(64, activation=\"relu\", kernel_initializer=\"uniform\")`\n/opt/conda/envs/Python36/lib/python3.6/site-packages/ipykernel/__main__.py:10: UserWarning: Update your `Dense` call to the Keras 2 API: `Dense(activation=\"sigmoid\", units=1, kernel_initializer=\"uniform\")`\n"
                }
            ],
            "source": "#Construct a neural network model that uses scaled data\n\nmodel_nn_wscaler = Sequential()\n\nmodel_nn_wscaler.add(Dense(output_dim = 32, init = 'uniform', activation = 'relu', input_dim = 4))\n#model_nn.add(Dropout(0.2))\nmodel_nn_wscaler.add(Dense(64, init = 'uniform', activation = 'relu'))\n\n#output layer with 1 output neuron which will predict 1 or 0\nmodel_nn_wscaler.add(Dense(output_dim = 1, init = 'uniform', activation = 'sigmoid'))"
        },
        {
            "cell_type": "code",
            "execution_count": 25,
            "metadata": {},
            "outputs": [
                {
                    "name": "stderr",
                    "output_type": "stream",
                    "text": "/opt/conda/envs/Python36/lib/python3.6/site-packages/ipykernel/__main__.py:5: UserWarning: Update your `Dense` call to the Keras 2 API: `Dense(activation=\"relu\", input_dim=4, units=32, kernel_initializer=\"uniform\")`\n/opt/conda/envs/Python36/lib/python3.6/site-packages/ipykernel/__main__.py:7: UserWarning: Update your `Dense` call to the Keras 2 API: `Dense(64, activation=\"relu\", kernel_initializer=\"uniform\")`\n/opt/conda/envs/Python36/lib/python3.6/site-packages/ipykernel/__main__.py:10: UserWarning: Update your `Dense` call to the Keras 2 API: `Dense(activation=\"sigmoid\", units=1, kernel_initializer=\"uniform\")`\n"
                }
            ],
            "source": "#Construct a neural network model that uses unscaled data\n\nmodel_nn_woscaler = Sequential()\n\nmodel_nn_woscaler.add(Dense(output_dim = 32, init = 'uniform', activation = 'relu', input_dim = 4))\n#model_nn.add(Dropout(0.2))\nmodel_nn_woscaler.add(Dense(64, init = 'uniform', activation = 'relu'))\n\n#output layer with 1 output neuron which will predict 1 or 0\nmodel_nn_woscaler.add(Dense(output_dim = 1, init = 'uniform', activation = 'sigmoid'))"
        },
        {
            "cell_type": "markdown",
            "metadata": {},
            "source": "We now set the **hyperparameters** for the optimizer we are using and *compile* the models."
        },
        {
            "cell_type": "code",
            "execution_count": 26,
            "metadata": {},
            "outputs": [
                {
                    "data": {
                        "text/plain": "<keras.optimizers.Adam at 0x7fafe9d3be48>"
                    },
                    "execution_count": 26,
                    "metadata": {},
                    "output_type": "execute_result"
                }
            ],
            "source": "#Adjust ADAM parameters\nkeras.optimizers.Adam(lr=0.01, beta_1=0.9, beta_2=0.999, amsgrad=False)"
        },
        {
            "cell_type": "code",
            "execution_count": 27,
            "metadata": {},
            "outputs": [],
            "source": "#Compile both the models\n\nmodel_nn_wscaler.compile(loss='binary_crossentropy', optimizer='adam', metrics=['accuracy'])\nmodel_nn_woscaler.compile(loss='binary_crossentropy', optimizer='adam', metrics=['accuracy'])"
        },
        {
            "cell_type": "markdown",
            "metadata": {},
            "source": "Now we go ahead and prepare *training data* to train the models respectively."
        },
        {
            "cell_type": "code",
            "execution_count": 28,
            "metadata": {},
            "outputs": [],
            "source": "#Prepare training data\n\nimport numpy as np\n\nX_train_wscaler = np.array(prediction_lr_wscaler.select('features_final').rdd.flatMap(lambda x:x).collect())\nX_train_woscaler = np.array(prediction_lr_woscaler.select('features').rdd.flatMap(lambda x:x).collect())\n\ny_train = df.select('motion_final').rdd.flatMap(lambda x:x).collect()"
        },
        {
            "cell_type": "code",
            "execution_count": 29,
            "metadata": {},
            "outputs": [
                {
                    "data": {
                        "text/plain": "array([[27.80843074, 13.44700553, 52.99664043,  0.        ],\n       [25.2557037 , 11.66158129, 56.54552261,  0.        ],\n       [25.14707702, 11.73913534, 56.07233832,  0.        ],\n       ...,\n       [28.02568411, 13.47793162, 53.23323258,  0.        ],\n       [28.07999745, 11.62708562, 52.52345614,  0.        ],\n       [27.04804396, 12.66153213, 52.286864  ,  0.        ]])"
                    },
                    "execution_count": 29,
                    "metadata": {},
                    "output_type": "execute_result"
                }
            ],
            "source": "X_train_wscaler"
        },
        {
            "cell_type": "markdown",
            "metadata": {},
            "source": "Now that both the models and the data are ready, we can move ahead to *model training*.<br>"
        },
        {
            "cell_type": "code",
            "execution_count": 30,
            "metadata": {},
            "outputs": [
                {
                    "name": "stdout",
                    "output_type": "stream",
                    "text": "WARNING:tensorflow:From /opt/conda/envs/Python36/lib/python3.6/site-packages/tensorflow/python/ops/math_ops.py:3066: to_int32 (from tensorflow.python.ops.math_ops) is deprecated and will be removed in a future version.\nInstructions for updating:\nUse tf.cast instead.\nTrain on 243 samples, validate on 61 samples\nEpoch 1/10\n243/243 [==============================] - 3s 13ms/step - loss: 0.6937 - acc: 0.4856 - val_loss: 0.6919 - val_acc: 0.5410\nEpoch 2/10\n243/243 [==============================] - 1s 4ms/step - loss: 0.6926 - acc: 0.5226 - val_loss: 0.6914 - val_acc: 0.5410\nEpoch 3/10\n243/243 [==============================] - 1s 2ms/step - loss: 0.6921 - acc: 0.5226 - val_loss: 0.6908 - val_acc: 0.5410\nEpoch 4/10\n243/243 [==============================] - 1s 3ms/step - loss: 0.6921 - acc: 0.5226 - val_loss: 0.6903 - val_acc: 0.5410\nEpoch 5/10\n243/243 [==============================] - 8s 32ms/step - loss: 0.6928 - acc: 0.5226 - val_loss: 0.6905 - val_acc: 0.5410\nEpoch 6/10\n243/243 [==============================] - 1s 3ms/step - loss: 0.6925 - acc: 0.5226 - val_loss: 0.6901 - val_acc: 0.5410\nEpoch 7/10\n243/243 [==============================] - 1s 3ms/step - loss: 0.6932 - acc: 0.5226 - val_loss: 0.6899 - val_acc: 0.5410\nEpoch 8/10\n243/243 [==============================] - 1s 4ms/step - loss: 0.6914 - acc: 0.5226 - val_loss: 0.6907 - val_acc: 0.5410\nEpoch 9/10\n243/243 [==============================] - 1s 2ms/step - loss: 0.6918 - acc: 0.5226 - val_loss: 0.6909 - val_acc: 0.5410\nEpoch 10/10\n243/243 [==============================] - 1s 3ms/step - loss: 0.6924 - acc: 0.5350 - val_loss: 0.6912 - val_acc: 0.5574\n"
                },
                {
                    "data": {
                        "text/plain": "<keras.callbacks.History at 0x7fafe93147b8>"
                    },
                    "execution_count": 30,
                    "metadata": {},
                    "output_type": "execute_result"
                }
            ],
            "source": "#Train the model that uses scaled data\n\nmodel_nn_wscaler.fit(X_train_wscaler, y_train, epochs = 10, validation_split = 0.2)"
        },
        {
            "cell_type": "code",
            "execution_count": 31,
            "metadata": {},
            "outputs": [
                {
                    "name": "stdout",
                    "output_type": "stream",
                    "text": "Train on 243 samples, validate on 61 samples\nEpoch 1/10\n243/243 [==============================] - 2s 7ms/step - loss: 0.6934 - acc: 0.5226 - val_loss: 0.6896 - val_acc: 0.5410\nEpoch 2/10\n243/243 [==============================] - 1s 3ms/step - loss: 0.6922 - acc: 0.5226 - val_loss: 0.6900 - val_acc: 0.5410\nEpoch 3/10\n243/243 [==============================] - 2s 8ms/step - loss: 0.6921 - acc: 0.5226 - val_loss: 0.6903 - val_acc: 0.5410\nEpoch 4/10\n243/243 [==============================] - 1s 3ms/step - loss: 0.6923 - acc: 0.5226 - val_loss: 0.6909 - val_acc: 0.5410\nEpoch 5/10\n243/243 [==============================] - 5s 19ms/step - loss: 0.6925 - acc: 0.5226 - val_loss: 0.6907 - val_acc: 0.5410\nEpoch 6/10\n243/243 [==============================] - 4s 16ms/step - loss: 0.6921 - acc: 0.5226 - val_loss: 0.6905 - val_acc: 0.5410\nEpoch 7/10\n243/243 [==============================] - 1s 3ms/step - loss: 0.6922 - acc: 0.5226 - val_loss: 0.6901 - val_acc: 0.5410\nEpoch 8/10\n243/243 [==============================] - 1s 4ms/step - loss: 0.6920 - acc: 0.5226 - val_loss: 0.6898 - val_acc: 0.5410\nEpoch 9/10\n243/243 [==============================] - 1s 3ms/step - loss: 0.6921 - acc: 0.5226 - val_loss: 0.6897 - val_acc: 0.5410\nEpoch 10/10\n243/243 [==============================] - 0s 1ms/step - loss: 0.6920 - acc: 0.5226 - val_loss: 0.6899 - val_acc: 0.5410\n"
                },
                {
                    "data": {
                        "text/plain": "<keras.callbacks.History at 0x7fafe83b0470>"
                    },
                    "execution_count": 31,
                    "metadata": {},
                    "output_type": "execute_result"
                }
            ],
            "source": "#Train the model that uses unscaled data\n\nmodel_nn_woscaler.fit(X_train_woscaler, y_train, epochs = 10, validation_split = 0.2)"
        },
        {
            "cell_type": "code",
            "execution_count": 32,
            "metadata": {},
            "outputs": [
                {
                    "name": "stdout",
                    "output_type": "stream",
                    "text": "304/304 [==============================] - 0s 369us/step\n"
                }
            ],
            "source": "#Evaluate the model that uses scaled data\n\nevaluate_nn_wscaler = model_nn_wscaler.evaluate(X_train_wscaler, y_train)\nnn_acc_wscaler = evaluate_nn_wscaler[1]"
        },
        {
            "cell_type": "code",
            "execution_count": 33,
            "metadata": {},
            "outputs": [
                {
                    "name": "stdout",
                    "output_type": "stream",
                    "text": "304/304 [==============================] - 0s 372us/step\n"
                }
            ],
            "source": "#Evaluate the model that uses unscaled data\n\nevaluate_nn_woscaler = model_nn_woscaler.evaluate(X_train_woscaler, y_train)\nnn_acc_woscaler = evaluate_nn_woscaler[1]"
        },
        {
            "cell_type": "code",
            "execution_count": 34,
            "metadata": {},
            "outputs": [],
            "source": "#Use the trained models to predict values for motion_final\n\nprediction_nn_wscaler = model_nn_wscaler.predict(X_train_wscaler)\nprediction_nn_woscaler = model_nn_woscaler.predict(X_train_woscaler)"
        },
        {
            "cell_type": "markdown",
            "metadata": {},
            "source": "Let's examine the accuracy obtained by all the models."
        },
        {
            "cell_type": "code",
            "execution_count": 35,
            "metadata": {},
            "outputs": [
                {
                    "name": "stdout",
                    "output_type": "stream",
                    "text": "Accuracy of prediction by GBT Classifier with data normalisation is 0.881578947368421\n\nAccuracy of prediction by Logistic Regression with data normalisation is 0.5263157894736842\n\nAccuracy of prediction by Neural Network model with data normalisation is 0.5460526315789473\n"
                }
            ],
            "source": "#Print the accuracy of all three models that used scaled data\n\nprint(\"Accuracy of prediction by GBT Classifier with data normalisation is\",gbt_acc_wscaler)\nprint()\nprint(\"Accuracy of prediction by Logistic Regression with data normalisation is\",lr_acc_wscaler)\nprint()\nprint(\"Accuracy of prediction by Neural Network model with data normalisation is\",nn_acc_wscaler)"
        },
        {
            "cell_type": "code",
            "execution_count": 36,
            "metadata": {},
            "outputs": [
                {
                    "name": "stdout",
                    "output_type": "stream",
                    "text": "Accuracy of prediction by GBT Classifier without data normalisation is 0.881578947368421\n\nAccuracy of prediction by Logistic Regression without data normalisation is 0.5263157894736842\n\nAccuracy of prediction by Neural Network model without data normalisation is 0.5263157894736842\n"
                }
            ],
            "source": "#Print the accuracy of all three models that used unscaled data\n\nprint(\"Accuracy of prediction by GBT Classifier without data normalisation is\",gbt_acc_woscaler)\nprint()\nprint(\"Accuracy of prediction by Logistic Regression without data normalisation is\",lr_acc_woscaler)\nprint()\nprint(\"Accuracy of prediction by Neural Network model without data normalisation is\",nn_acc_woscaler)"
        },
        {
            "cell_type": "markdown",
            "metadata": {},
            "source": "We notice that both the *logistic regression model* as well as the *neural network model* have the same accruracy of 50.5% which is pretty low.<br>\nNow we can scroll up to look at the predictions of both these models and notice that both are prediction **0 for all values**.<br>\nWe infer that both these models have learnt to provide 0 as output always and hence there is no useful prediction happening.<br>\n<br>\nOn the other hand, the *gradient boosted trees classifier* is performing as expected with an accuracy of 90.7% which is decent enough.<br>\nHence, we can conclude that **gradient boosted trees classifier** is more robust to data imbalance.<br>\n<br>\nAlso, while comparing the results *with* and *without scaling the data*, we notice that there is not much difference in the performance of both models.<br>\nThis could be justfied by the good quality of the dataset.<br>\n<br>\nNow we can go ahead and obtain the **F1 score** of these models to understand how well they are performing."
        },
        {
            "cell_type": "code",
            "execution_count": 37,
            "metadata": {},
            "outputs": [
                {
                    "name": "stderr",
                    "output_type": "stream",
                    "text": "/opt/conda/envs/Python36/lib/python3.6/site-packages/sklearn/metrics/classification.py:1143: UndefinedMetricWarning: F-score is ill-defined and being set to 0.0 due to no predicted samples.\n  'precision', 'predicted', average, warn_for)\n"
                },
                {
                    "name": "stdout",
                    "output_type": "stream",
                    "text": "The F1 score for logistic regressor model with data normalisation is: 0.0\n\nThe F1 score for GBT model with data normalisation is: 0.8758620689655173\n\nThe F1 score of the neural network with data normalisation is: 0.09210526315789473\n"
                }
            ],
            "source": "#Print F1 score of all three models that used scaled data\n\nfrom sklearn.metrics import f1_score\n\nlog_f1 = f1_score(prediction_lr_wscaler.select('motion_final').collect(), prediction_lr_wscaler.select('prediction').collect())\nprint(\"The F1 score for logistic regressor model with data normalisation is:\",log_f1)\nprint()\ngbt_f1 = f1_score(prediction_gbt_wscaler.select('motion_final').collect(), prediction_gbt_wscaler.select('prediction').collect())\nprint(\"The F1 score for GBT model with data normalisation is:\",gbt_f1)\nprint()\nnn_f1 = f1_score(y_train, model_nn_wscaler.predict_classes(X_train_wscaler).reshape((-1,)))\nprint(\"The F1 score of the neural network with data normalisation is:\",nn_f1)"
        },
        {
            "cell_type": "code",
            "execution_count": 38,
            "metadata": {},
            "outputs": [
                {
                    "name": "stdout",
                    "output_type": "stream",
                    "text": "The F1 score for logistic regressor model without data normalisation is: 0.0\n\nThe F1 score for GBT model without data normalisation is: 0.8758620689655173\n\nThe F1 score of the neural network without data normalisation is: 0.0\n"
                }
            ],
            "source": "#Print F1 score of all three models that used unscaled data\n\nlog_f1 = f1_score(prediction_lr_woscaler.select('motion_final').collect(), prediction_lr_woscaler.select('prediction').collect())\nprint(\"The F1 score for logistic regressor model without data normalisation is:\",log_f1)\nprint()\ngbt_f1 = f1_score(prediction_gbt_woscaler.select('motion_final').collect(), prediction_gbt_woscaler.select('prediction').collect())\nprint(\"The F1 score for GBT model without data normalisation is:\",gbt_f1)\nprint()\nnn_f1 = f1_score(y_train, model_nn_woscaler.predict_classes(X_train_woscaler).reshape((-1,)))\nprint(\"The F1 score of the neural network without data normalisation is:\",nn_f1)"
        },
        {
            "cell_type": "markdown",
            "metadata": {},
            "source": "As expected, only the *gbt classifier* has an F1 score and the other two have 0.<br>\n<br>\nHence, we can now do further evaluation of the *gbt classifier* alone using **confusion matrix**."
        },
        {
            "cell_type": "code",
            "execution_count": 39,
            "metadata": {},
            "outputs": [
                {
                    "name": "stdout",
                    "output_type": "stream",
                    "text": "[[141  19]\n [ 17 127]]\n"
                }
            ],
            "source": "#Form the confusion matrix for the GBT Classifier's performance\n\nfrom sklearn.metrics import confusion_matrix\nimport seaborn as sns\n\ny_pred = prediction_gbt_wscaler.select('prediction').rdd.flatMap(lambda x:x).collect()\ncf_matrix = confusion_matrix(y_train, y_pred)\nprint(cf_matrix)"
        },
        {
            "cell_type": "code",
            "execution_count": 40,
            "metadata": {},
            "outputs": [
                {
                    "data": {
                        "text/plain": "Text(0.5, 1.0, 'Confusion Matrix\\n')"
                    },
                    "execution_count": 40,
                    "metadata": {},
                    "output_type": "execute_result"
                },
                {
                    "data": {
                        "image/png": "[encoded data removed]",
                        "text/plain": "<Figure size 842.4x595.44 with 2 Axes>"
                    },
                    "metadata": {},
                    "output_type": "display_data"
                }
            ],
            "source": "#Plot the confusion matrix\n\nsns.set(rc={'figure.figsize':(11.7,8.27), \"axes.titlesize\":30})\ngroup_names = [\"True Neg\",\"False Pos\",\"False Neg\",\"True Pos\"]\ngroup_counts = [\"{0:0.0f}\".format(value) for value in\n                cf_matrix.flatten()]\ngroup_percentages = [\"{0:.2%}\".format(value) for value in\n                     cf_matrix.flatten()/np.sum(cf_matrix)]\nlabels = [f\"{v1}\\n{v2}\\n{v3}\" for v1, v2, v3 in\n          zip(group_names,group_counts,group_percentages)]\nlabels = np.asarray(labels).reshape(2,2)\nsns.heatmap(cf_matrix, annot=labels, fmt=\"\", cmap='Blues').set_title('Confusion Matrix\\n')"
        }
    ],
    "metadata": {
        "kernelspec": {
            "display_name": "Python 3.6",
            "language": "python",
            "name": "python3"
        },
        "language_info": {
            "codemirror_mode": {
                "name": "ipython",
                "version": 3
            },
            "file_extension": ".py",
            "mimetype": "text/x-python",
            "name": "python",
            "nbconvert_exporter": "python",
            "pygments_lexer": "ipython3",
            "version": "3.6.9"
        }
    },
    "nbformat": 4,
    "nbformat_minor": 1
}